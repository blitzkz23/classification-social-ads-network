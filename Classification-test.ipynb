{
 "cells": [
  {
   "cell_type": "markdown",
   "metadata": {},
   "source": [
    "# Klasifikasi pada Social Ads Dataset"
   ]
  },
  {
   "cell_type": "code",
   "execution_count": 32,
   "metadata": {},
   "outputs": [],
   "source": [
    "import pandas as pd\n",
    "import numpy as np\n",
    "import matplotlib.pyplot as plt"
   ]
  },
  {
   "cell_type": "code",
   "execution_count": 33,
   "metadata": {},
   "outputs": [],
   "source": [
    "df = pd.read_csv(\"socialAds.csv\")"
   ]
  },
  {
   "cell_type": "code",
   "execution_count": 34,
   "metadata": {},
   "outputs": [
    {
     "data": {
      "text/html": [
       "<div>\n",
       "<style scoped>\n",
       "    .dataframe tbody tr th:only-of-type {\n",
       "        vertical-align: middle;\n",
       "    }\n",
       "\n",
       "    .dataframe tbody tr th {\n",
       "        vertical-align: top;\n",
       "    }\n",
       "\n",
       "    .dataframe thead th {\n",
       "        text-align: right;\n",
       "    }\n",
       "</style>\n",
       "<table border=\"1\" class=\"dataframe\">\n",
       "  <thead>\n",
       "    <tr style=\"text-align: right;\">\n",
       "      <th></th>\n",
       "      <th>User ID</th>\n",
       "      <th>Gender</th>\n",
       "      <th>Age</th>\n",
       "      <th>EstimatedSalary</th>\n",
       "      <th>Purchased</th>\n",
       "    </tr>\n",
       "  </thead>\n",
       "  <tbody>\n",
       "    <tr>\n",
       "      <th>0</th>\n",
       "      <td>15624510</td>\n",
       "      <td>Male</td>\n",
       "      <td>19</td>\n",
       "      <td>19000</td>\n",
       "      <td>0</td>\n",
       "    </tr>\n",
       "    <tr>\n",
       "      <th>1</th>\n",
       "      <td>15810944</td>\n",
       "      <td>Male</td>\n",
       "      <td>35</td>\n",
       "      <td>20000</td>\n",
       "      <td>0</td>\n",
       "    </tr>\n",
       "    <tr>\n",
       "      <th>2</th>\n",
       "      <td>15668575</td>\n",
       "      <td>Female</td>\n",
       "      <td>26</td>\n",
       "      <td>43000</td>\n",
       "      <td>0</td>\n",
       "    </tr>\n",
       "    <tr>\n",
       "      <th>3</th>\n",
       "      <td>15603246</td>\n",
       "      <td>Female</td>\n",
       "      <td>27</td>\n",
       "      <td>57000</td>\n",
       "      <td>0</td>\n",
       "    </tr>\n",
       "    <tr>\n",
       "      <th>4</th>\n",
       "      <td>15804002</td>\n",
       "      <td>Male</td>\n",
       "      <td>19</td>\n",
       "      <td>76000</td>\n",
       "      <td>0</td>\n",
       "    </tr>\n",
       "    <tr>\n",
       "      <th>...</th>\n",
       "      <td>...</td>\n",
       "      <td>...</td>\n",
       "      <td>...</td>\n",
       "      <td>...</td>\n",
       "      <td>...</td>\n",
       "    </tr>\n",
       "    <tr>\n",
       "      <th>395</th>\n",
       "      <td>15691863</td>\n",
       "      <td>Female</td>\n",
       "      <td>46</td>\n",
       "      <td>41000</td>\n",
       "      <td>1</td>\n",
       "    </tr>\n",
       "    <tr>\n",
       "      <th>396</th>\n",
       "      <td>15706071</td>\n",
       "      <td>Male</td>\n",
       "      <td>51</td>\n",
       "      <td>23000</td>\n",
       "      <td>1</td>\n",
       "    </tr>\n",
       "    <tr>\n",
       "      <th>397</th>\n",
       "      <td>15654296</td>\n",
       "      <td>Female</td>\n",
       "      <td>50</td>\n",
       "      <td>20000</td>\n",
       "      <td>1</td>\n",
       "    </tr>\n",
       "    <tr>\n",
       "      <th>398</th>\n",
       "      <td>15755018</td>\n",
       "      <td>Male</td>\n",
       "      <td>36</td>\n",
       "      <td>33000</td>\n",
       "      <td>0</td>\n",
       "    </tr>\n",
       "    <tr>\n",
       "      <th>399</th>\n",
       "      <td>15594041</td>\n",
       "      <td>Female</td>\n",
       "      <td>49</td>\n",
       "      <td>36000</td>\n",
       "      <td>1</td>\n",
       "    </tr>\n",
       "  </tbody>\n",
       "</table>\n",
       "<p>400 rows × 5 columns</p>\n",
       "</div>"
      ],
      "text/plain": [
       "      User ID  Gender  Age  EstimatedSalary  Purchased\n",
       "0    15624510    Male   19            19000          0\n",
       "1    15810944    Male   35            20000          0\n",
       "2    15668575  Female   26            43000          0\n",
       "3    15603246  Female   27            57000          0\n",
       "4    15804002    Male   19            76000          0\n",
       "..        ...     ...  ...              ...        ...\n",
       "395  15691863  Female   46            41000          1\n",
       "396  15706071    Male   51            23000          1\n",
       "397  15654296  Female   50            20000          1\n",
       "398  15755018    Male   36            33000          0\n",
       "399  15594041  Female   49            36000          1\n",
       "\n",
       "[400 rows x 5 columns]"
      ]
     },
     "execution_count": 34,
     "metadata": {},
     "output_type": "execute_result"
    }
   ],
   "source": [
    "df"
   ]
  },
  {
   "cell_type": "code",
   "execution_count": 35,
   "metadata": {},
   "outputs": [],
   "source": [
    "#Replace data nominal pada Gender dengan 0 dan 1\n",
    "replace_dict= {'Female': 0, 'Male': 1}\n",
    "df['Gender']=df['Gender'].map(replace_dict)"
   ]
  },
  {
   "cell_type": "code",
   "execution_count": 36,
   "metadata": {},
   "outputs": [
    {
     "data": {
      "text/html": [
       "<div>\n",
       "<style scoped>\n",
       "    .dataframe tbody tr th:only-of-type {\n",
       "        vertical-align: middle;\n",
       "    }\n",
       "\n",
       "    .dataframe tbody tr th {\n",
       "        vertical-align: top;\n",
       "    }\n",
       "\n",
       "    .dataframe thead th {\n",
       "        text-align: right;\n",
       "    }\n",
       "</style>\n",
       "<table border=\"1\" class=\"dataframe\">\n",
       "  <thead>\n",
       "    <tr style=\"text-align: right;\">\n",
       "      <th></th>\n",
       "      <th>User ID</th>\n",
       "      <th>Gender</th>\n",
       "      <th>Age</th>\n",
       "      <th>EstimatedSalary</th>\n",
       "      <th>Purchased</th>\n",
       "    </tr>\n",
       "  </thead>\n",
       "  <tbody>\n",
       "    <tr>\n",
       "      <th>0</th>\n",
       "      <td>15624510</td>\n",
       "      <td>1</td>\n",
       "      <td>19</td>\n",
       "      <td>19000</td>\n",
       "      <td>0</td>\n",
       "    </tr>\n",
       "    <tr>\n",
       "      <th>1</th>\n",
       "      <td>15810944</td>\n",
       "      <td>1</td>\n",
       "      <td>35</td>\n",
       "      <td>20000</td>\n",
       "      <td>0</td>\n",
       "    </tr>\n",
       "    <tr>\n",
       "      <th>2</th>\n",
       "      <td>15668575</td>\n",
       "      <td>0</td>\n",
       "      <td>26</td>\n",
       "      <td>43000</td>\n",
       "      <td>0</td>\n",
       "    </tr>\n",
       "    <tr>\n",
       "      <th>3</th>\n",
       "      <td>15603246</td>\n",
       "      <td>0</td>\n",
       "      <td>27</td>\n",
       "      <td>57000</td>\n",
       "      <td>0</td>\n",
       "    </tr>\n",
       "    <tr>\n",
       "      <th>4</th>\n",
       "      <td>15804002</td>\n",
       "      <td>1</td>\n",
       "      <td>19</td>\n",
       "      <td>76000</td>\n",
       "      <td>0</td>\n",
       "    </tr>\n",
       "    <tr>\n",
       "      <th>5</th>\n",
       "      <td>15728773</td>\n",
       "      <td>1</td>\n",
       "      <td>27</td>\n",
       "      <td>58000</td>\n",
       "      <td>0</td>\n",
       "    </tr>\n",
       "    <tr>\n",
       "      <th>6</th>\n",
       "      <td>15598044</td>\n",
       "      <td>0</td>\n",
       "      <td>27</td>\n",
       "      <td>84000</td>\n",
       "      <td>0</td>\n",
       "    </tr>\n",
       "    <tr>\n",
       "      <th>7</th>\n",
       "      <td>15694829</td>\n",
       "      <td>0</td>\n",
       "      <td>32</td>\n",
       "      <td>150000</td>\n",
       "      <td>1</td>\n",
       "    </tr>\n",
       "  </tbody>\n",
       "</table>\n",
       "</div>"
      ],
      "text/plain": [
       "    User ID  Gender  Age  EstimatedSalary  Purchased\n",
       "0  15624510       1   19            19000          0\n",
       "1  15810944       1   35            20000          0\n",
       "2  15668575       0   26            43000          0\n",
       "3  15603246       0   27            57000          0\n",
       "4  15804002       1   19            76000          0\n",
       "5  15728773       1   27            58000          0\n",
       "6  15598044       0   27            84000          0\n",
       "7  15694829       0   32           150000          1"
      ]
     },
     "execution_count": 36,
     "metadata": {},
     "output_type": "execute_result"
    }
   ],
   "source": [
    "df.head(8)"
   ]
  },
  {
   "cell_type": "code",
   "execution_count": 37,
   "metadata": {},
   "outputs": [],
   "source": [
    "X = df.iloc[:, 1:4].values\n",
    "y = df['Purchased'].values"
   ]
  },
  {
   "cell_type": "code",
   "execution_count": 38,
   "metadata": {},
   "outputs": [
    {
     "data": {
      "text/plain": [
       "array([[    1,    19, 19000],\n",
       "       [    1,    35, 20000],\n",
       "       [    0,    26, 43000],\n",
       "       ...,\n",
       "       [    0,    50, 20000],\n",
       "       [    1,    36, 33000],\n",
       "       [    0,    49, 36000]], dtype=int64)"
      ]
     },
     "execution_count": 38,
     "metadata": {},
     "output_type": "execute_result"
    }
   ],
   "source": [
    "X"
   ]
  },
  {
   "cell_type": "code",
   "execution_count": 39,
   "metadata": {
    "scrolled": true
   },
   "outputs": [
    {
     "data": {
      "text/plain": [
       "array([0, 0, 0, 0, 0, 0, 0, 1, 0, 0, 0, 0, 0, 0, 0, 0, 1, 1, 1, 1, 1, 1,\n",
       "       1, 1, 1, 1, 1, 1, 0, 0, 0, 1, 0, 0, 0, 0, 0, 0, 0, 0, 0, 0, 0, 0,\n",
       "       0, 0, 0, 0, 1, 0, 0, 0, 0, 0, 0, 0, 0, 0, 0, 0, 0, 0, 0, 1, 0, 0,\n",
       "       0, 0, 0, 0, 0, 0, 0, 0, 0, 1, 0, 0, 0, 0, 0, 0, 0, 0, 0, 1, 0, 0,\n",
       "       0, 0, 0, 0, 0, 0, 0, 0, 0, 1, 0, 0, 0, 0, 0, 1, 0, 0, 0, 0, 0, 0,\n",
       "       0, 0, 0, 0, 0, 0, 0, 0, 0, 0, 0, 0, 0, 0, 0, 0, 0, 0, 0, 0, 0, 0,\n",
       "       0, 0, 0, 0, 0, 1, 0, 0, 0, 0, 0, 0, 0, 0, 1, 0, 0, 0, 0, 0, 0, 0,\n",
       "       0, 0, 0, 0, 0, 1, 1, 0, 0, 0, 0, 0, 0, 0, 1, 0, 0, 0, 0, 0, 0, 0,\n",
       "       0, 0, 0, 0, 0, 0, 1, 0, 0, 0, 0, 0, 0, 0, 0, 0, 0, 0, 0, 0, 0, 0,\n",
       "       0, 0, 0, 0, 1, 0, 1, 0, 1, 0, 1, 0, 1, 1, 0, 0, 0, 1, 0, 0, 0, 1,\n",
       "       0, 1, 1, 1, 0, 0, 1, 1, 0, 1, 1, 0, 1, 1, 0, 1, 0, 0, 0, 1, 1, 0,\n",
       "       1, 1, 0, 1, 0, 1, 0, 1, 0, 0, 1, 1, 0, 1, 0, 0, 1, 1, 0, 1, 1, 0,\n",
       "       1, 1, 0, 0, 1, 0, 0, 1, 1, 1, 1, 1, 0, 1, 1, 1, 1, 0, 1, 1, 0, 1,\n",
       "       0, 1, 0, 1, 1, 1, 1, 0, 0, 0, 1, 1, 0, 1, 1, 1, 1, 1, 0, 0, 0, 1,\n",
       "       1, 0, 0, 1, 0, 1, 0, 1, 1, 0, 1, 0, 1, 1, 0, 1, 1, 0, 0, 0, 1, 1,\n",
       "       0, 1, 0, 0, 1, 0, 1, 0, 0, 1, 1, 0, 0, 1, 1, 0, 1, 1, 0, 0, 1, 0,\n",
       "       1, 0, 1, 1, 1, 0, 1, 0, 1, 1, 1, 0, 1, 1, 1, 1, 0, 1, 1, 1, 0, 1,\n",
       "       0, 1, 0, 0, 1, 1, 0, 1, 1, 1, 1, 1, 1, 0, 1, 1, 1, 1, 1, 1, 0, 1,\n",
       "       1, 1, 0, 1], dtype=int64)"
      ]
     },
     "execution_count": 39,
     "metadata": {},
     "output_type": "execute_result"
    }
   ],
   "source": [
    "y"
   ]
  },
  {
   "cell_type": "code",
   "execution_count": 40,
   "metadata": {},
   "outputs": [
    {
     "data": {
      "text/plain": [
       "(400, 3)"
      ]
     },
     "execution_count": 40,
     "metadata": {},
     "output_type": "execute_result"
    }
   ],
   "source": [
    "X.shape"
   ]
  },
  {
   "cell_type": "code",
   "execution_count": 41,
   "metadata": {},
   "outputs": [],
   "source": [
    "from sklearn.model_selection import train_test_split\n",
    "X_train, X_test, y_train, y_test = train_test_split(X,y, test_size=0.2, random_state=42)"
   ]
  },
  {
   "cell_type": "code",
   "execution_count": 42,
   "metadata": {},
   "outputs": [],
   "source": [
    "from sklearn.preprocessing import StandardScaler\n",
    "sc = StandardScaler()\n",
    "\n",
    "X_train = sc.fit_transform(X_train)\n",
    "X_test = sc.fit_transform(X_test)"
   ]
  },
  {
   "cell_type": "code",
   "execution_count": 43,
   "metadata": {},
   "outputs": [
    {
     "data": {
      "text/plain": [
       "array([[-1.        , -1.06675246, -0.38634438],\n",
       "       [ 1.        ,  0.79753468, -1.22993871],\n",
       "       [-1.        ,  0.11069205,  1.853544  ],\n",
       "       [-1.        ,  0.60129393, -0.90995465],\n",
       "       [-1.        ,  1.87685881, -1.28811763],\n",
       "       [ 1.        , -0.57615058,  1.44629156],\n",
       "       [ 1.        ,  0.3069328 , -0.53179168],\n",
       "       [ 1.        ,  0.99377543,  0.10817643],\n",
       "       [ 1.        , -1.16487283,  0.45724994],\n",
       "       [ 1.        , -1.55735433,  0.31180264],\n",
       "       [ 1.        ,  1.0918958 ,  0.45724994],\n",
       "       [-1.        , -0.18366908, -0.47361276],\n",
       "       [ 1.        ,  0.20881242, -0.32816546],\n",
       "       [-1.        ,  0.3069328 ,  0.28271318],\n",
       "       [ 1.        , -1.16487283, -1.57901222],\n",
       "       [-1.        ,  0.11069205,  0.25362372],\n",
       "       [ 1.        ,  2.07309956,  1.73718616],\n",
       "       [ 1.        ,  0.40505317, -0.18271817],\n",
       "       [-1.        ,  1.4843773 ,  2.11534913],\n",
       "       [ 1.        , -0.37990983,  1.21357589],\n",
       "       [-1.        ,  1.87685881,  1.50447048],\n",
       "       [-1.        ,  0.11069205,  0.02090805],\n",
       "       [ 1.        ,  0.89565505, -1.31720709],\n",
       "       [ 1.        , -1.36111358, -1.49174384],\n",
       "       [-1.        , -0.18366908, -0.5899706 ],\n",
       "       [-1.        , -0.57615058,  2.31897535],\n",
       "       [-1.        ,  0.99377543, -1.20084925],\n",
       "       [ 1.        , -0.77239133,  1.06812859],\n",
       "       [ 1.        ,  2.17121993, -1.05540195],\n",
       "       [ 1.        ,  0.01257167, -0.26998655],\n",
       "       [ 1.        , -0.4780302 , -1.14267033],\n",
       "       [ 1.        ,  0.11069205,  0.02090805],\n",
       "       [ 1.        ,  1.68061805, -0.90995465],\n",
       "       [-1.        ,  1.0918958 , -0.90995465],\n",
       "       [-1.        ,  0.50317355,  1.21357589],\n",
       "       [ 1.        , -1.06675246, -1.46265438],\n",
       "       [-1.        , -1.16487283, -1.54992276],\n",
       "       [-1.        , -0.0855487 ,  0.66087616],\n",
       "       [ 1.        ,  0.40505317, -0.47361276],\n",
       "       [ 1.        , -0.28178945, -0.26998655],\n",
       "       [ 1.        , -0.87051171,  0.13726589],\n",
       "       [-1.        ,  0.01257167,  0.28271318],\n",
       "       [ 1.        ,  0.6994143 , -1.28811763],\n",
       "       [-1.        ,  1.58249768,  1.09721805],\n",
       "       [ 1.        ,  0.79753468, -1.37538601],\n",
       "       [-1.        , -1.45923396, -1.22993871],\n",
       "       [ 1.        , -0.0855487 ,  0.13726589],\n",
       "       [ 1.        ,  0.40505317, -0.15362871],\n",
       "       [-1.        , -0.28178945,  0.02090805],\n",
       "       [-1.        ,  1.28813655,  2.20261751],\n",
       "       [ 1.        ,  0.11069205,  0.74814454],\n",
       "       [-1.        , -1.36111358,  0.54451832],\n",
       "       [-1.        ,  1.97497918,  0.71905508],\n",
       "       [ 1.        , -1.26299321, -1.40447546],\n",
       "       [ 1.        ,  0.3069328 , -0.32816546],\n",
       "       [ 1.        , -0.96863208,  0.54451832],\n",
       "       [-1.        ,  0.40505317,  0.28271318],\n",
       "       [-1.        ,  0.40505317,  1.09721805],\n",
       "       [-1.        ,  0.79753468,  0.74814454],\n",
       "       [-1.        ,  0.89565505,  1.24266535],\n",
       "       [-1.        , -0.4780302 , -1.22993871],\n",
       "       [ 1.        , -1.85171546, -1.31720709],\n",
       "       [ 1.        ,  1.0918958 ,  0.54451832],\n",
       "       [-1.        , -0.67427095, -1.60810168],\n",
       "       [-1.        , -0.77239133,  0.25362372],\n",
       "       [ 1.        ,  0.99377543,  2.05717021],\n",
       "       [-1.        , -0.57615058,  1.35902318],\n",
       "       [-1.        , -0.0855487 ,  0.02090805],\n",
       "       [-1.        , -1.94983583,  0.45724994],\n",
       "       [-1.        ,  0.40505317,  0.25362372],\n",
       "       [-1.        , -1.06675246,  0.39907102],\n",
       "       [ 1.        ,  0.20881242, -0.15362871],\n",
       "       [ 1.        ,  1.87685881,  0.10817643],\n",
       "       [-1.        , -1.16487283, -1.60810168],\n",
       "       [-1.        , -1.16487283,  0.28271318],\n",
       "       [ 1.        , -0.87051171, -0.79359682],\n",
       "       [-1.        , -0.4780302 ,  2.28988589],\n",
       "       [ 1.        ,  0.11069205, -0.82268628],\n",
       "       [-1.        ,  1.58249768,  0.98086021],\n",
       "       [ 1.        , -0.18366908, -1.08449141],\n",
       "       [-1.        ,  0.79753468, -1.11358087],\n",
       "       [-1.        ,  0.20881242,  2.08625967],\n",
       "       [-1.        , -0.0855487 , -0.24089709],\n",
       "       [ 1.        , -0.87051171,  2.26079643],\n",
       "       [-1.        , -0.0855487 , -0.38634438],\n",
       "       [ 1.        , -0.28178945, -0.5899706 ],\n",
       "       [-1.        ,  0.40505317, -0.50270222],\n",
       "       [ 1.        , -0.28178945, -0.93904411],\n",
       "       [-1.        ,  0.3069328 , -1.17175979],\n",
       "       [-1.        ,  0.20881242,  0.04999751],\n",
       "       [ 1.        , -1.16487283, -1.60810168],\n",
       "       [-1.        , -0.67427095, -0.06636033],\n",
       "       [ 1.        , -0.28178945, -0.50270222],\n",
       "       [-1.        , -0.28178945, -1.31720709],\n",
       "       [ 1.        , -0.77239133,  0.54451832],\n",
       "       [ 1.        ,  0.3069328 ,  0.04999751],\n",
       "       [ 1.        , -0.96863208,  1.53355994],\n",
       "       [-1.        ,  0.79753468,  0.3408921 ],\n",
       "       [-1.        , -1.55735433, -0.21180763],\n",
       "       [-1.        ,  0.6994143 , -1.40447546],\n",
       "       [ 1.        , -0.77239133, -0.61906006],\n",
       "       [-1.        , -0.37990983, -1.31720709],\n",
       "       [-1.        ,  0.20881242,  0.13726589],\n",
       "       [-1.        , -0.57615058,  1.35902318],\n",
       "       [-1.        , -1.45923396,  0.3408921 ],\n",
       "       [ 1.        , -1.16487283,  0.28271318],\n",
       "       [-1.        ,  0.99377543,  1.76627562],\n",
       "       [ 1.        ,  2.07309956,  2.11534913],\n",
       "       [ 1.        , -0.28178945, -0.4445233 ],\n",
       "       [ 1.        , -0.37990983, -0.79359682],\n",
       "       [-1.        ,  0.11069205, -0.26998655],\n",
       "       [-1.        , -1.06675246,  0.74814454],\n",
       "       [ 1.        ,  2.17121993,  0.36998156],\n",
       "       [ 1.        , -1.36111358, -0.4445233 ],\n",
       "       [ 1.        ,  1.97497918,  2.14443859],\n",
       "       [-1.        ,  1.4843773 ,  0.98086021],\n",
       "       [ 1.        , -0.28178945,  0.25362372],\n",
       "       [ 1.        , -0.18366908,  0.83541291],\n",
       "       [ 1.        ,  1.87685881, -0.29907601],\n",
       "       [-1.        , -0.0855487 ,  1.94081237],\n",
       "       [ 1.        , -0.4780302 , -0.79359682],\n",
       "       [-1.        ,  0.3069328 ,  0.02090805],\n",
       "       [-1.        ,  1.38625693, -1.43356492],\n",
       "       [ 1.        ,  1.38625693,  2.31897535],\n",
       "       [ 1.        , -0.0855487 , -0.00818141],\n",
       "       [-1.        , -1.16487283,  0.39907102],\n",
       "       [-1.        , -1.16487283,  0.04999751],\n",
       "       [-1.        , -1.16487283, -0.53179168],\n",
       "       [-1.        ,  0.3069328 , -0.29907601],\n",
       "       [ 1.        , -0.67427095, -0.12453925],\n",
       "       [ 1.        , -0.0855487 ,  2.14443859],\n",
       "       [ 1.        ,  0.01257167, -0.26998655],\n",
       "       [-1.        , -0.67427095, -1.05540195],\n",
       "       [-1.        ,  0.40505317,  0.13726589],\n",
       "       [ 1.        ,  0.79753468,  1.35902318],\n",
       "       [ 1.        , -0.18366908, -0.53179168],\n",
       "       [ 1.        ,  0.01257167,  0.02090805],\n",
       "       [ 1.        ,  1.0918958 ,  0.51542886],\n",
       "       [-1.        ,  1.87685881, -1.08449141],\n",
       "       [-1.        ,  0.99377543,  1.96990183],\n",
       "       [-1.        ,  0.89565505, -0.5899706 ],\n",
       "       [-1.        , -0.4780302 , -0.03727087],\n",
       "       [-1.        , -0.0855487 ,  2.20261751],\n",
       "       [-1.        , -1.75359508,  0.3408921 ],\n",
       "       [ 1.        ,  0.20881242, -0.67723898],\n",
       "       [ 1.        , -0.28178945, -1.40447546],\n",
       "       [-1.        , -1.75359508, -0.99722303],\n",
       "       [-1.        ,  0.6994143 , -0.7354179 ],\n",
       "       [-1.        , -1.16487283, -0.79359682],\n",
       "       [-1.        ,  1.97497918,  0.89359183],\n",
       "       [ 1.        ,  0.20881242, -0.38634438],\n",
       "       [-1.        ,  0.01257167,  1.21357589],\n",
       "       [-1.        , -0.0855487 ,  0.28271318],\n",
       "       [ 1.        ,  1.0918958 , -1.22993871],\n",
       "       [-1.        , -0.18366908,  0.13726589],\n",
       "       [-1.        ,  0.3069328 ,  0.04999751],\n",
       "       [-1.        , -0.28178945, -0.29907601],\n",
       "       [ 1.        ,  0.50317355,  1.7080967 ],\n",
       "       [ 1.        ,  0.3069328 ,  0.4863394 ],\n",
       "       [-1.        ,  0.01257167,  1.24266535],\n",
       "       [-1.        ,  1.97497918, -1.37538601],\n",
       "       [ 1.        , -1.16487283, -1.11358087],\n",
       "       [ 1.        , -0.57615058, -1.5208333 ],\n",
       "       [ 1.        ,  0.3069328 , -0.53179168],\n",
       "       [ 1.        , -0.67427095, -1.5208333 ],\n",
       "       [ 1.        , -0.28178945,  0.51542886],\n",
       "       [-1.        ,  0.99377543, -1.02631249],\n",
       "       [ 1.        , -1.06675246,  0.54451832],\n",
       "       [-1.        , -0.28178945,  0.777234  ],\n",
       "       [ 1.        ,  0.40505317,  0.07908697],\n",
       "       [-1.        , -1.65547471, -0.06636033],\n",
       "       [-1.        ,  0.3069328 ,  0.04999751],\n",
       "       [-1.        , -0.4780302 , -0.29907601],\n",
       "       [ 1.        ,  0.11069205,  1.853544  ],\n",
       "       [-1.        , -0.96863208,  0.39907102],\n",
       "       [ 1.        ,  0.79753468,  0.51542886],\n",
       "       [ 1.        , -1.36111358, -0.35725492],\n",
       "       [-1.        , -0.67427095,  1.38811264],\n",
       "       [-1.        ,  1.19001618,  0.51542886],\n",
       "       [-1.        , -1.75359508,  0.3408921 ],\n",
       "       [-1.        , -0.57615058,  1.88263345],\n",
       "       [ 1.        , -1.75359508,  0.45724994],\n",
       "       [ 1.        , -0.28178945, -1.25902817],\n",
       "       [ 1.        , -0.87051171, -0.79359682],\n",
       "       [ 1.        , -1.65547471,  0.51542886],\n",
       "       [ 1.        , -0.28178945, -0.32816546],\n",
       "       [ 1.        ,  0.6994143 , -1.11358087],\n",
       "       [ 1.        ,  2.17121993, -0.82268628],\n",
       "       [ 1.        , -0.28178945,  0.60269724],\n",
       "       [-1.        , -0.28178945, -0.76450736],\n",
       "       [-1.        , -1.94983583, -0.76450736],\n",
       "       [ 1.        ,  0.40505317,  2.28988589],\n",
       "       [ 1.        ,  0.6994143 ,  0.25362372],\n",
       "       [-1.        ,  0.20881242, -0.29907601],\n",
       "       [ 1.        , -1.36111358, -1.37538601],\n",
       "       [-1.        , -0.4780302 , -0.56088114],\n",
       "       [-1.        ,  0.40505317, -0.00818141],\n",
       "       [-1.        ,  1.68061805,  1.73718616],\n",
       "       [-1.        ,  1.19001618, -0.76450736],\n",
       "       [-1.        ,  0.99377543,  1.4172021 ],\n",
       "       [ 1.        , -1.85171546,  0.16635535],\n",
       "       [-1.        ,  0.3069328 ,  0.04999751],\n",
       "       [ 1.        ,  0.20881242,  0.02090805],\n",
       "       [ 1.        , -1.06675246,  0.51542886],\n",
       "       [-1.        , -0.18366908,  1.62082832],\n",
       "       [ 1.        , -0.28178945,  0.13726589],\n",
       "       [ 1.        , -0.28178945, -0.35725492],\n",
       "       [ 1.        , -0.37990983,  1.30084427],\n",
       "       [ 1.        , -0.28178945,  0.07908697],\n",
       "       [-1.        ,  2.17121993,  1.09721805],\n",
       "       [ 1.        , -1.26299321,  0.4863394 ],\n",
       "       [-1.        , -1.06675246, -0.47361276],\n",
       "       [-1.        , -1.65547471, -1.57901222],\n",
       "       [ 1.        , -0.0855487 ,  0.10817643],\n",
       "       [ 1.        , -0.28178945, -0.90995465],\n",
       "       [ 1.        ,  1.58249768, -0.00818141],\n",
       "       [-1.        ,  0.89565505, -1.17175979],\n",
       "       [-1.        ,  0.01257167, -0.5899706 ],\n",
       "       [-1.        , -0.28178945,  2.23170697],\n",
       "       [-1.        , -0.28178945,  0.19544481],\n",
       "       [ 1.        ,  0.3069328 ,  0.25362372],\n",
       "       [-1.        , -0.0855487 , -1.08449141],\n",
       "       [-1.        ,  2.17121993, -0.70632844],\n",
       "       [-1.        , -0.96863208, -0.32816546],\n",
       "       [-1.        , -1.45923396, -0.12453925],\n",
       "       [ 1.        , -1.45923396, -0.21180763],\n",
       "       [ 1.        , -0.77239133, -1.54992276],\n",
       "       [ 1.        , -1.26299321, -1.08449141],\n",
       "       [-1.        ,  2.07309956,  0.36998156],\n",
       "       [-1.        ,  1.97497918, -0.93904411],\n",
       "       [ 1.        , -1.94983583,  0.3408921 ],\n",
       "       [ 1.        ,  0.79753468, -0.32816546],\n",
       "       [-1.        , -1.06675246, -1.54992276],\n",
       "       [-1.        ,  1.97497918, -0.67723898],\n",
       "       [-1.        ,  0.99377543, -1.17175979],\n",
       "       [ 1.        ,  1.0918958 , -0.15362871],\n",
       "       [-1.        ,  1.19001618, -0.99722303],\n",
       "       [ 1.        ,  1.4843773 ,  0.04999751],\n",
       "       [ 1.        ,  0.20881242, -0.38634438],\n",
       "       [-1.        ,  1.38625693,  1.27175481],\n",
       "       [-1.        ,  2.07309956, -0.82268628],\n",
       "       [-1.        , -0.18366908, -0.21180763],\n",
       "       [ 1.        ,  0.40505317,  0.98086021],\n",
       "       [ 1.        , -0.0855487 , -0.53179168],\n",
       "       [ 1.        ,  0.99377543, -1.08449141],\n",
       "       [-1.        ,  2.07309956, -1.20084925],\n",
       "       [ 1.        , -0.0855487 ,  0.25362372],\n",
       "       [ 1.        ,  0.20881242, -0.26998655],\n",
       "       [ 1.        ,  1.0918958 ,  0.10817643],\n",
       "       [ 1.        , -1.26299321,  0.57360778],\n",
       "       [ 1.        , -0.77239133, -1.60810168],\n",
       "       [ 1.        ,  0.20881242,  0.22453427],\n",
       "       [ 1.        , -1.36111358,  0.39907102],\n",
       "       [-1.        ,  0.01257167, -0.5899706 ],\n",
       "       [-1.        ,  0.6994143 ,  1.76627562],\n",
       "       [ 1.        , -1.65547471,  0.04999751],\n",
       "       [-1.        , -0.28178945, -1.37538601],\n",
       "       [ 1.        , -0.28178945, -1.46265438],\n",
       "       [-1.        , -0.67427095,  0.54451832],\n",
       "       [ 1.        , -0.77239133,  0.28271318],\n",
       "       [-1.        ,  0.89565505, -0.67723898],\n",
       "       [ 1.        , -1.06675246,  0.57360778],\n",
       "       [-1.        , -0.28178945,  0.04999751],\n",
       "       [-1.        , -0.77239133,  1.32993372],\n",
       "       [ 1.        ,  0.11069205,  1.50447048],\n",
       "       [-1.        , -0.87051171,  0.36998156],\n",
       "       [-1.        ,  0.3069328 , -0.21180763],\n",
       "       [ 1.        ,  0.99377543,  0.57360778],\n",
       "       [ 1.        ,  0.01257167, -0.32816546],\n",
       "       [ 1.        , -0.57615058, -1.5208333 ],\n",
       "       [-1.        ,  0.11069205,  0.13726589],\n",
       "       [ 1.        , -1.16487283,  0.31180264],\n",
       "       [ 1.        ,  0.11069205,  1.03903913],\n",
       "       [-1.        , -1.55735433, -0.4445233 ],\n",
       "       [ 1.        , -0.18366908,  1.38811264],\n",
       "       [ 1.        ,  2.17121993, -0.82268628],\n",
       "       [-1.        , -0.96863208, -0.4445233 ],\n",
       "       [-1.        ,  1.28813655,  1.853544  ],\n",
       "       [ 1.        ,  1.0918958 , -1.22993871],\n",
       "       [ 1.        , -0.18366908, -0.29907601],\n",
       "       [-1.        ,  1.77873843,  0.98086021],\n",
       "       [-1.        , -1.06675246, -0.35725492],\n",
       "       [-1.        , -1.36111358, -1.11358087],\n",
       "       [-1.        , -0.37990983,  0.04999751],\n",
       "       [ 1.        , -0.96863208, -1.11358087],\n",
       "       [-1.        ,  1.19001618, -1.46265438],\n",
       "       [-1.        , -0.4780302 , -0.85177573],\n",
       "       [-1.        , -0.87051171, -0.67723898],\n",
       "       [ 1.        , -1.55735433, -1.5208333 ],\n",
       "       [ 1.        , -0.77239133,  1.88263345],\n",
       "       [ 1.        ,  0.89565505,  1.00994967],\n",
       "       [ 1.        ,  0.79753468,  0.25362372],\n",
       "       [-1.        ,  0.99377543,  1.853544  ],\n",
       "       [-1.        ,  0.89565505, -0.61906006],\n",
       "       [-1.        ,  1.0918958 ,  2.05717021],\n",
       "       [ 1.        , -0.57615058,  0.86450237],\n",
       "       [ 1.        ,  0.01257167,  0.02090805],\n",
       "       [-1.        , -1.85171546, -1.28811763],\n",
       "       [ 1.        , -0.0855487 ,  0.19544481],\n",
       "       [-1.        ,  0.89565505, -0.56088114],\n",
       "       [ 1.        ,  0.20881242, -0.38634438],\n",
       "       [ 1.        , -0.18366908,  1.59173886],\n",
       "       [ 1.        , -1.75359508,  0.10817643],\n",
       "       [ 1.        , -0.67427095, -0.35725492],\n",
       "       [ 1.        ,  0.3069328 , -0.7354179 ],\n",
       "       [ 1.        ,  0.40505317, -0.47361276],\n",
       "       [-1.        , -0.96863208, -0.96813357],\n",
       "       [-1.        ,  0.11069205,  0.07908697],\n",
       "       [-1.        , -0.96863208,  0.42816048],\n",
       "       [ 1.        ,  0.01257167, -0.56088114],\n",
       "       [ 1.        ,  0.89565505, -0.79359682],\n",
       "       [ 1.        , -0.0855487 ,  0.04999751],\n",
       "       [-1.        ,  1.0918958 , -0.99722303],\n",
       "       [ 1.        ,  0.6994143 , -1.40447546],\n",
       "       [ 1.        , -0.28178945,  0.04999751],\n",
       "       [-1.        , -1.36111358, -1.25902817],\n",
       "       [-1.        , -1.16487283, -1.02631249],\n",
       "       [-1.        ,  0.50317355,  1.82445454],\n",
       "       [ 1.        ,  0.11069205,  0.19544481],\n",
       "       [-1.        , -0.57615058,  0.45724994]])"
      ]
     },
     "execution_count": 43,
     "metadata": {},
     "output_type": "execute_result"
    }
   ],
   "source": [
    "X_train"
   ]
  },
  {
   "cell_type": "code",
   "execution_count": 44,
   "metadata": {},
   "outputs": [
    {
     "data": {
      "text/plain": [
       "numpy.ndarray"
      ]
     },
     "execution_count": 44,
     "metadata": {},
     "output_type": "execute_result"
    }
   ],
   "source": [
    "type(X_train)"
   ]
  },
  {
   "cell_type": "markdown",
   "metadata": {},
   "source": [
    "# KNN"
   ]
  },
  {
   "cell_type": "code",
   "execution_count": 45,
   "metadata": {
    "scrolled": true
   },
   "outputs": [],
   "source": [
    "#model_knn.get_params().keys()"
   ]
  },
  {
   "cell_type": "code",
   "execution_count": 46,
   "metadata": {},
   "outputs": [],
   "source": [
    "from sklearn.neighbors import KNeighborsClassifier\n",
    "from sklearn.model_selection import RandomizedSearchCV, GridSearchCV\n",
    "from sklearn.metrics import f1_score\n",
    "from sklearn.metrics import accuracy_score, recall_score, precision_score\n",
    "from sklearn.naive_bayes import GaussianNB, MultinomialNB, BernoulliNB\n",
    "from sklearn.tree import DecisionTreeClassifier\n",
    "from sklearn import tree\n",
    "import matplotlib.pyplot as plt\n",
    "import joblib\n",
    "from sklearn.metrics import confusion_matrix,classification_report\n",
    "from sklearn import metrics\n",
    "from sklearn.metrics import plot_confusion_matrix\n",
    "import seaborn as sns\n"
   ]
  },
  {
   "cell_type": "code",
   "execution_count": 56,
   "metadata": {},
   "outputs": [
    {
     "data": {
      "text/plain": [
       "RandomizedSearchCV(cv=100, estimator=KNeighborsClassifier(),\n",
       "                   param_distributions={'algorithm': ['auto', 'ball_tree',\n",
       "                                                      'kd_tree', 'brute'],\n",
       "                                        'leaf_size': [30, 50, 100, 150],\n",
       "                                        'n_neighbors': array([ 5,  6,  7,  8,  9, 10, 11, 12, 13, 14, 15, 16, 17, 18, 19, 20, 21,\n",
       "       22, 23, 24, 25, 26, 27, 28, 29, 30, 31, 32, 33, 34, 35, 36, 37, 38,\n",
       "       39, 40, 41, 42, 43, 44, 45, 46, 47, 48, 49]),\n",
       "                                        'p': [1, 2],\n",
       "                                        'weights': ['uniform', 'distance']},\n",
       "                   scoring='accuracy')"
      ]
     },
     "execution_count": 56,
     "metadata": {},
     "output_type": "execute_result"
    }
   ],
   "source": [
    "model_knn = KNeighborsClassifier()\n",
    "param_grid = {'n_neighbors':np.arange(5,50), 'weights':['uniform','distance'],\n",
    "             'algorithm':['auto','ball_tree','kd_tree','brute'], 'leaf_size':[30, 50,100,150],\n",
    "             'p':[1,2]}\n",
    "\n",
    "rscv = RandomizedSearchCV(model_knn, param_grid, cv=100, scoring='accuracy')\n",
    "rscv.fit(X_train, y_train)"
   ]
  },
  {
   "cell_type": "code",
   "execution_count": 57,
   "metadata": {},
   "outputs": [
    {
     "data": {
      "text/plain": [
       "{'weights': 'uniform',\n",
       " 'p': 2,\n",
       " 'n_neighbors': 8,\n",
       " 'leaf_size': 50,\n",
       " 'algorithm': 'auto'}"
      ]
     },
     "execution_count": 57,
     "metadata": {},
     "output_type": "execute_result"
    }
   ],
   "source": [
    "rscv.best_params_"
   ]
  },
  {
   "cell_type": "code",
   "execution_count": 58,
   "metadata": {},
   "outputs": [
    {
     "data": {
      "text/plain": [
       "0.9025"
      ]
     },
     "execution_count": 58,
     "metadata": {},
     "output_type": "execute_result"
    }
   ],
   "source": [
    "rscv.best_score_"
   ]
  },
  {
   "cell_type": "code",
   "execution_count": 59,
   "metadata": {},
   "outputs": [],
   "source": [
    "model_knn = rscv.best_estimator_"
   ]
  },
  {
   "cell_type": "code",
   "execution_count": 60,
   "metadata": {},
   "outputs": [
    {
     "data": {
      "text/plain": [
       "['model-knn.joblib']"
      ]
     },
     "execution_count": 60,
     "metadata": {},
     "output_type": "execute_result"
    }
   ],
   "source": [
    "joblib.dump(model_knn, 'model-knn.joblib')"
   ]
  },
  {
   "cell_type": "code",
   "execution_count": 61,
   "metadata": {},
   "outputs": [],
   "source": [
    "model_knn = joblib.load('model-knn.joblib')"
   ]
  },
  {
   "cell_type": "code",
   "execution_count": 62,
   "metadata": {},
   "outputs": [],
   "source": [
    "y_predict = model_knn.predict(X_test)"
   ]
  },
  {
   "cell_type": "code",
   "execution_count": 63,
   "metadata": {},
   "outputs": [
    {
     "data": {
      "text/plain": [
       "array([1, 1, 0, 1, 0, 0, 1, 0, 0, 0, 0, 1, 0, 0, 0, 1, 1, 0, 0, 1, 0, 0,\n",
       "       1, 1, 0, 1, 0, 0, 1, 0, 1, 0, 1, 0, 1, 0, 0, 0, 0, 0, 1, 0, 0, 1,\n",
       "       0, 1, 0, 0, 1, 0, 0, 1, 0, 0, 0, 0, 1, 1, 0, 0, 0, 0, 1, 0, 0, 1,\n",
       "       0, 1, 0, 1, 1, 0, 0, 0, 1, 0, 1, 1, 0, 0], dtype=int64)"
      ]
     },
     "execution_count": 63,
     "metadata": {},
     "output_type": "execute_result"
    }
   ],
   "source": [
    "y_predict"
   ]
  },
  {
   "attachments": {
    "image.png": {
     "image/png": "[encoded data removed]"
    }
   },
   "cell_type": "markdown",
   "metadata": {},
   "source": [
    "![image.png](attachment:image.png)"
   ]
  },
  {
   "cell_type": "code",
   "execution_count": 64,
   "metadata": {},
   "outputs": [
    {
     "data": {
      "text/plain": [
       "array([[48,  4],\n",
       "       [ 2, 26]], dtype=int64)"
      ]
     },
     "execution_count": 64,
     "metadata": {},
     "output_type": "execute_result"
    }
   ],
   "source": [
    "cm = metrics.confusion_matrix(y_test, y_predict)\n",
    "cm"
   ]
  },
  {
   "cell_type": "code",
   "execution_count": 65,
   "metadata": {},
   "outputs": [
    {
     "data": {
      "text/plain": [
       "'\\nTP = 48\\nFN = 4\\nFP = 1\\nTN = 27\\n'"
      ]
     },
     "execution_count": 65,
     "metadata": {},
     "output_type": "execute_result"
    }
   ],
   "source": [
    "\"\"\"\n",
    "TP = 48\n",
    "FN = 4\n",
    "FP = 1\n",
    "TN = 27\n",
    "\"\"\""
   ]
  },
  {
   "cell_type": "code",
   "execution_count": 66,
   "metadata": {},
   "outputs": [
    {
     "data": {
      "image/png": "[encoded data removed]",
      "text/plain": [
       "<Figure size 432x288 with 2 Axes>"
      ]
     },
     "metadata": {
      "needs_background": "light"
     },
     "output_type": "display_data"
    }
   ],
   "source": [
    "\n",
    "ax= plt.subplot()\n",
    "sns.heatmap(cm, annot=True, ax = ax, cmap=\"Blues\"); #annot=True to annotate cells\n",
    "\n",
    "# labels, title and ticks\n",
    "ax.set_xlabel('Predicted labels');ax.set_ylabel('True labels'); \n",
    "ax.set_title('Confusion Matrix'); \n",
    "ax.xaxis.set_ticklabels(['Purchased', 'Not']); ax.yaxis.set_ticklabels(['Purchased', 'Not']);\n",
    "\n"
   ]
  },
  {
   "cell_type": "code",
   "execution_count": 67,
   "metadata": {},
   "outputs": [
    {
     "data": {
      "text/plain": [
       "0.925"
      ]
     },
     "execution_count": 67,
     "metadata": {},
     "output_type": "execute_result"
    }
   ],
   "source": [
    "#Calculate Accuracy\n",
    "accuracy_score(y_test,y_predict)"
   ]
  },
  {
   "cell_type": "code",
   "execution_count": 68,
   "metadata": {},
   "outputs": [
    {
     "data": {
      "text/plain": [
       "0.9285714285714286"
      ]
     },
     "execution_count": 68,
     "metadata": {},
     "output_type": "execute_result"
    }
   ],
   "source": [
    "#Calculate Recall\n",
    "recall_score(y_test, y_predict)\n",
    "#recall itu jika aslinya positif tapi diprediksi negatif maka FN"
   ]
  },
  {
   "cell_type": "code",
   "execution_count": 69,
   "metadata": {},
   "outputs": [
    {
     "data": {
      "text/plain": [
       "0.8666666666666667"
      ]
     },
     "execution_count": 69,
     "metadata": {},
     "output_type": "execute_result"
    }
   ],
   "source": [
    "#Calculate Precision\n",
    "precision_score(y_test, y_predict)\n",
    "#precision itu jika aslinya negatif tapi diprediksi positif maka FP"
   ]
  },
  {
   "cell_type": "code",
   "execution_count": 70,
   "metadata": {
    "scrolled": true
   },
   "outputs": [
    {
     "name": "stdout",
     "output_type": "stream",
     "text": [
      "              precision    recall  f1-score   support\n",
      "\n",
      "           0       0.96      0.92      0.94        52\n",
      "           1       0.87      0.93      0.90        28\n",
      "\n",
      "    accuracy                           0.93        80\n",
      "   macro avg       0.91      0.93      0.92        80\n",
      "weighted avg       0.93      0.93      0.93        80\n",
      "\n"
     ]
    }
   ],
   "source": [
    "print(classification_report(y_test, y_predict))"
   ]
  },
  {
   "cell_type": "markdown",
   "metadata": {},
   "source": [
    "# Naive Baiyes\n"
   ]
  },
  {
   "cell_type": "markdown",
   "metadata": {},
   "source": [
    "## Gaussian NB"
   ]
  },
  {
   "cell_type": "code",
   "execution_count": 83,
   "metadata": {},
   "outputs": [
    {
     "data": {
      "text/plain": [
       "RandomizedSearchCV(cv=100, estimator=GaussianNB(),\n",
       "                   param_distributions={'priors': [None],\n",
       "                                        'var_smoothing': array([1.00000000e+00, 8.11130831e-01, 6.57933225e-01, 5.33669923e-01,\n",
       "       4.32876128e-01, 3.51119173e-01, 2.84803587e-01, 2.31012970e-01,\n",
       "       1.87381742e-01, 1.51991108e-01, 1.23284674e-01, 1.00000000e-01,\n",
       "       8.11130831e-02, 6.57933225e-02, 5.33669923e-02, 4.32876128e-02,\n",
       "       3...\n",
       "       1.23284674e-07, 1.00000000e-07, 8.11130831e-08, 6.57933225e-08,\n",
       "       5.33669923e-08, 4.32876128e-08, 3.51119173e-08, 2.84803587e-08,\n",
       "       2.31012970e-08, 1.87381742e-08, 1.51991108e-08, 1.23284674e-08,\n",
       "       1.00000000e-08, 8.11130831e-09, 6.57933225e-09, 5.33669923e-09,\n",
       "       4.32876128e-09, 3.51119173e-09, 2.84803587e-09, 2.31012970e-09,\n",
       "       1.87381742e-09, 1.51991108e-09, 1.23284674e-09, 1.00000000e-09])},\n",
       "                   scoring='accuracy')"
      ]
     },
     "execution_count": 83,
     "metadata": {},
     "output_type": "execute_result"
    }
   ],
   "source": [
    "model_nb = GaussianNB()\n",
    "params_grid = {'priors': [None],'var_smoothing': np.logspace(0,-9, num=100)}\n",
    "rscv = RandomizedSearchCV(model_nb, params_grid, cv=100, scoring='accuracy')\n",
    "rscv.fit(X_train, y_train)"
   ]
  },
  {
   "cell_type": "code",
   "execution_count": 84,
   "metadata": {},
   "outputs": [
    {
     "data": {
      "text/plain": [
       "{'var_smoothing': 0.01873817422860384, 'priors': None}"
      ]
     },
     "execution_count": 84,
     "metadata": {},
     "output_type": "execute_result"
    }
   ],
   "source": [
    "rscv.best_params_"
   ]
  },
  {
   "cell_type": "code",
   "execution_count": 85,
   "metadata": {},
   "outputs": [
    {
     "data": {
      "text/plain": [
       "0.8600000000000001"
      ]
     },
     "execution_count": 85,
     "metadata": {},
     "output_type": "execute_result"
    }
   ],
   "source": [
    "rscv.best_score_"
   ]
  },
  {
   "cell_type": "code",
   "execution_count": 86,
   "metadata": {},
   "outputs": [],
   "source": [
    "model_nb = rscv.best_estimator_"
   ]
  },
  {
   "cell_type": "code",
   "execution_count": 87,
   "metadata": {},
   "outputs": [
    {
     "data": {
      "text/plain": [
       "['model-gaussianNB.joblib']"
      ]
     },
     "execution_count": 87,
     "metadata": {},
     "output_type": "execute_result"
    }
   ],
   "source": [
    "joblib.dump(model_nb, 'model-gaussianNB.joblib')"
   ]
  },
  {
   "cell_type": "code",
   "execution_count": 88,
   "metadata": {},
   "outputs": [],
   "source": [
    "model_nb = joblib.load('model-gaussianNB.joblib')"
   ]
  },
  {
   "cell_type": "code",
   "execution_count": 89,
   "metadata": {},
   "outputs": [],
   "source": [
    "y_predicted = model_nb.predict(X_test)"
   ]
  },
  {
   "cell_type": "code",
   "execution_count": 90,
   "metadata": {},
   "outputs": [
    {
     "data": {
      "text/plain": [
       "array([1, 1, 0, 1, 0, 0, 1, 0, 0, 0, 0, 1, 0, 0, 0, 1, 1, 1, 0, 1, 0, 0,\n",
       "       1, 1, 0, 1, 0, 0, 1, 0, 0, 0, 1, 0, 1, 0, 0, 0, 0, 0, 1, 0, 0, 1,\n",
       "       0, 1, 0, 0, 0, 0, 0, 1, 0, 0, 0, 0, 1, 0, 0, 0, 0, 0, 1, 0, 0, 1,\n",
       "       1, 1, 0, 1, 1, 0, 0, 0, 0, 0, 1, 1, 0, 0], dtype=int64)"
      ]
     },
     "execution_count": 90,
     "metadata": {},
     "output_type": "execute_result"
    }
   ],
   "source": [
    "y_predicted"
   ]
  },
  {
   "cell_type": "code",
   "execution_count": 94,
   "metadata": {},
   "outputs": [],
   "source": [
    "cm2 = confusion_matrix(y_test, y_predicted)"
   ]
  },
  {
   "cell_type": "code",
   "execution_count": 96,
   "metadata": {},
   "outputs": [
    {
     "data": {
      "text/plain": [
       "array([[48,  4],\n",
       "       [ 4, 24]], dtype=int64)"
      ]
     },
     "execution_count": 96,
     "metadata": {},
     "output_type": "execute_result"
    }
   ],
   "source": [
    "cm2"
   ]
  },
  {
   "cell_type": "code",
   "execution_count": 93,
   "metadata": {},
   "outputs": [
    {
     "data": {
      "text/plain": [
       "0.9"
      ]
     },
     "execution_count": 93,
     "metadata": {},
     "output_type": "execute_result"
    }
   ],
   "source": [
    "accuracy_score(y_test,y_predicted)"
   ]
  },
  {
   "cell_type": "markdown",
   "metadata": {},
   "source": [
    "Warna CMAP\n",
    "'Blue' is not a valid value for name; supported values are 'Accent', 'Accent_r', 'Blues', 'Blues_r', 'BrBG', 'BrBG_r', 'BuGn', 'BuGn_r', 'BuPu', 'BuPu_r', 'CMRmap', 'CMRmap_r', 'Dark2', 'Dark2_r', 'GnBu', 'GnBu_r', 'Greens', 'Greens_r', 'Greys', 'Greys_r', 'OrRd', 'OrRd_r', 'Oranges', 'Oranges_r', 'PRGn', 'PRGn_r', 'Paired', 'Paired_r', 'Pastel1', 'Pastel1_r', 'Pastel2', 'Pastel2_r', 'PiYG', 'PiYG_r', 'PuBu', 'PuBuGn', 'PuBuGn_r', 'PuBu_r', 'PuOr', 'PuOr_r', 'PuRd', 'PuRd_r', 'Purples', 'Purples_r', 'RdBu', 'RdBu_r', 'RdGy', 'RdGy_r', 'RdPu', 'RdPu_r', 'RdYlBu', 'RdYlBu_r', 'RdYlGn', 'RdYlGn_r', 'Reds', 'Reds_r', 'Set1', 'Set1_r', 'Set2', 'Set2_r', 'Set3', 'Set3_r', 'Spectral', 'Spectral_r', 'Wistia', 'Wistia_r', 'YlGn', 'YlGnBu', 'YlGnBu_r', 'YlGn_r', 'YlOrBr', 'YlOrBr_r', 'YlOrRd', 'YlOrRd_r', 'afmhot', 'afmhot_r', 'autumn', 'autumn_r', 'binary', 'binary_r', 'bone', 'bone_r', 'brg', 'brg_r', 'bwr', 'bwr_r', 'cividis', 'cividis_r', 'cool', 'cool_r', 'coolwarm', 'coolwarm_r', 'copper', 'copper_r', 'crest', 'crest_r', 'cubehelix', 'cubehelix_r', 'flag', 'flag_r', 'flare', 'flare_r', 'gist_earth', 'gist_earth_r', 'gist_gray', 'gist_gray_r', 'gist_heat', 'gist_heat_r', 'gist_ncar', 'gist_ncar_r', 'gist_rainbow', 'gist_rainbow_r', 'gist_stern', 'gist_stern_r', 'gist_yarg', 'gist_yarg_r', 'gnuplot', 'gnuplot2', 'gnuplot2_r', 'gnuplot_r', 'gray', 'gray_r', 'hot', 'hot_r', 'hsv', 'hsv_r', 'icefire', 'icefire_r', 'inferno', 'inferno_r', 'jet', 'jet_r', 'magma', 'magma_r', 'mako', 'mako_r', 'nipy_spectral', 'nipy_spectral_r', 'ocean', 'ocean_r', 'pink', 'pink_r', 'plasma', 'plasma_r', 'prism', 'prism_r', 'rainbow', 'rainbow_r', 'rocket', 'rocket_r', 'seismic', 'seismic_r', 'spring', 'spring_r', 'summer', 'summer_r', 'tab10', 'tab10_r', 'tab20', 'tab20_r', 'tab20b', 'tab20b_r', 'tab20c', 'tab20c_r', 'terrain', 'terrain_r', 'turbo', 'turbo_r', 'twilight"
   ]
  },
  {
   "cell_type": "code",
   "execution_count": 101,
   "metadata": {},
   "outputs": [
    {
     "data": {
      "image/png": "[encoded data removed]",
      "text/plain": [
       "<Figure size 432x288 with 2 Axes>"
      ]
     },
     "metadata": {
      "needs_background": "light"
     },
     "output_type": "display_data"
    }
   ],
   "source": [
    "ax= plt.subplot()\n",
    "sns.heatmap(cm2, annot=True, ax = ax, cmap=\"icefire\"); #annot=True to annotate cells\n",
    "\n",
    "# labels, title and ticks\n",
    "ax.set_xlabel('Predicted labels');ax.set_ylabel('True labels'); \n",
    "ax.set_title('Confusion Matrix'); \n",
    "ax.xaxis.set_ticklabels(['Purchased', 'Not']); ax.yaxis.set_ticklabels(['Purchased', 'Not']);\n",
    "\n"
   ]
  },
  {
   "cell_type": "markdown",
   "metadata": {},
   "source": [
    "# Bernoulli NB"
   ]
  },
  {
   "cell_type": "code",
   "execution_count": 103,
   "metadata": {},
   "outputs": [],
   "source": [
    "model_nb2 = BernoulliNB(binarize = 0.1)\n",
    "model_nb2.fit(X_train, y_train)\n",
    "y_pred = model_nb2.predict(X_test)"
   ]
  },
  {
   "cell_type": "code",
   "execution_count": 104,
   "metadata": {},
   "outputs": [],
   "source": [
    "cm3 = confusion_matrix(y_test, y_predicted)"
   ]
  },
  {
   "cell_type": "code",
   "execution_count": 105,
   "metadata": {},
   "outputs": [
    {
     "data": {
      "text/plain": [
       "array([[48,  4],\n",
       "       [ 4, 24]], dtype=int64)"
      ]
     },
     "execution_count": 105,
     "metadata": {},
     "output_type": "execute_result"
    }
   ],
   "source": [
    "cm3"
   ]
  },
  {
   "cell_type": "code",
   "execution_count": 106,
   "metadata": {
    "scrolled": true
   },
   "outputs": [
    {
     "data": {
      "text/plain": [
       "0.9"
      ]
     },
     "execution_count": 106,
     "metadata": {},
     "output_type": "execute_result"
    }
   ],
   "source": [
    "accuracy_score(y_test,y_predicted)"
   ]
  },
  {
   "cell_type": "markdown",
   "metadata": {},
   "source": [
    "# Decision Tree"
   ]
  },
  {
   "cell_type": "code",
   "execution_count": 111,
   "metadata": {},
   "outputs": [
    {
     "data": {
      "text/plain": [
       "dict_keys(['ccp_alpha', 'class_weight', 'criterion', 'max_depth', 'max_features', 'max_leaf_nodes', 'min_impurity_decrease', 'min_impurity_split', 'min_samples_leaf', 'min_samples_split', 'min_weight_fraction_leaf', 'presort', 'random_state', 'splitter'])"
      ]
     },
     "execution_count": 111,
     "metadata": {},
     "output_type": "execute_result"
    }
   ],
   "source": [
    "model_dt.get_params().keys()"
   ]
  },
  {
   "cell_type": "code",
   "execution_count": 114,
   "metadata": {},
   "outputs": [
    {
     "data": {
      "text/plain": [
       "RandomizedSearchCV(cv=100, estimator=DecisionTreeClassifier(),\n",
       "                   param_distributions={'criterion': ['gini', 'entropy'],\n",
       "                                        'max_depth': range(3, 5),\n",
       "                                        'max_leaf_nodes': [2, 3, 4, 5, 6, 7, 8,\n",
       "                                                           9, 10, 11, 12, 13,\n",
       "                                                           14, 15, 16, 17, 18,\n",
       "                                                           19, 20, 21, 22, 23,\n",
       "                                                           24, 25, 26, 27, 28,\n",
       "                                                           29, 30, 31, ...],\n",
       "                                        'min_samples_leaf': range(2, 10),\n",
       "                                        'min_samples_split': range(2, 10)},\n",
       "                   scoring='accuracy')"
      ]
     },
     "execution_count": 114,
     "metadata": {},
     "output_type": "execute_result"
    }
   ],
   "source": [
    "model_dt = DecisionTreeClassifier()\n",
    "params_grid = {'criterion':['gini','entropy'],\n",
    "               'max_leaf_nodes': list(range(2, 100)), \n",
    "               'min_samples_split': range(2, 10), \n",
    "               'min_samples_leaf': range(2, 10), \n",
    "               'max_depth': range(3, 5)}\n",
    "rscv = RandomizedSearchCV(model_dt, params_grid, cv=100, scoring='accuracy')\n",
    "rscv.fit(X_train, y_train)"
   ]
  },
  {
   "cell_type": "code",
   "execution_count": 115,
   "metadata": {},
   "outputs": [
    {
     "data": {
      "text/plain": [
       "{'min_samples_split': 2,\n",
       " 'min_samples_leaf': 7,\n",
       " 'max_leaf_nodes': 36,\n",
       " 'max_depth': 4,\n",
       " 'criterion': 'entropy'}"
      ]
     },
     "execution_count": 115,
     "metadata": {},
     "output_type": "execute_result"
    }
   ],
   "source": [
    "rscv.best_params_"
   ]
  },
  {
   "cell_type": "code",
   "execution_count": 116,
   "metadata": {},
   "outputs": [
    {
     "data": {
      "text/plain": [
       "0.9183333333333334"
      ]
     },
     "execution_count": 116,
     "metadata": {},
     "output_type": "execute_result"
    }
   ],
   "source": [
    "rscv.best_score_"
   ]
  },
  {
   "cell_type": "code",
   "execution_count": 117,
   "metadata": {},
   "outputs": [],
   "source": [
    "model_dt = rscv.best_estimator_"
   ]
  },
  {
   "cell_type": "code",
   "execution_count": 118,
   "metadata": {},
   "outputs": [
    {
     "data": {
      "text/plain": [
       "['model-DT.joblib']"
      ]
     },
     "execution_count": 118,
     "metadata": {},
     "output_type": "execute_result"
    }
   ],
   "source": [
    "joblib.dump(model_dt, 'model-DT.joblib')"
   ]
  },
  {
   "cell_type": "code",
   "execution_count": 119,
   "metadata": {},
   "outputs": [],
   "source": [
    "model_dt = joblib.load('model-DT.joblib')"
   ]
  },
  {
   "cell_type": "code",
   "execution_count": 120,
   "metadata": {},
   "outputs": [],
   "source": [
    "y_predicteds = model_dt.predict(X_test)"
   ]
  },
  {
   "cell_type": "code",
   "execution_count": 123,
   "metadata": {},
   "outputs": [
    {
     "data": {
      "text/plain": [
       "array([[46,  6],\n",
       "       [ 3, 25]], dtype=int64)"
      ]
     },
     "execution_count": 123,
     "metadata": {},
     "output_type": "execute_result"
    }
   ],
   "source": [
    "cm4 = confusion_matrix(y_test, y_predicteds)\n",
    "cm4"
   ]
  },
  {
   "cell_type": "code",
   "execution_count": 126,
   "metadata": {},
   "outputs": [
    {
     "data": {
      "image/png": "[encoded data removed]",
      "text/plain": [
       "<Figure size 432x288 with 2 Axes>"
      ]
     },
     "metadata": {
      "needs_background": "light"
     },
     "output_type": "display_data"
    }
   ],
   "source": [
    "ax= plt.subplot()\n",
    "sns.heatmap(cm4, annot=True, ax = ax, cmap=\"Greens\"); #annot=True to annotate cells\n",
    "\n",
    "# labels, title and ticks\n",
    "ax.set_xlabel('Predicted labels');ax.set_ylabel('True labels'); \n",
    "ax.set_title('Confusion Matrix'); \n",
    "ax.xaxis.set_ticklabels(['Purchased', 'Not']); ax.yaxis.set_ticklabels(['Purchased', 'Not']);\n",
    "\n"
   ]
  },
  {
   "cell_type": "code",
   "execution_count": 127,
   "metadata": {},
   "outputs": [
    {
     "data": {
      "text/plain": [
       "0.8875"
      ]
     },
     "execution_count": 127,
     "metadata": {},
     "output_type": "execute_result"
    }
   ],
   "source": [
    "accuracy_score(y_test,y_predicteds)"
   ]
  },
  {
   "cell_type": "code",
   "execution_count": 128,
   "metadata": {},
   "outputs": [],
   "source": [
    "# fn = ['Gender', 'Age', 'Salary']\n",
    "# cn = ['Purchased/not']\n",
    "\n",
    "# fig, axes = plt.subplots(nrows=1, ncols=1, figsize = (9,9), dpi=300)\n",
    "# tree.plot_tree(model_dt, feature_names=fn, class_names=cn, filled=True)\n",
    "#fig.savefig('imagename.png')"
   ]
  },
  {
   "cell_type": "code",
   "execution_count": 129,
   "metadata": {},
   "outputs": [],
   "source": [
    "tree.export_graphviz(model_dt, out_file='decision-tree.dot',\n",
    "                    feature_names = ['Gender', 'Age', 'Salary'],\n",
    "                    class_names='Purchased/not',\n",
    "                    label='all', rounded=True, filled=True)"
   ]
  }
 ],
 "metadata": {
  "kernelspec": {
   "display_name": "Python 3",
   "language": "python",
   "name": "python3"
  },
  "language_info": {
   "codemirror_mode": {
    "name": "ipython",
    "version": 3
   },
   "file_extension": ".py",
   "mimetype": "text/x-python",
   "name": "python",
   "nbconvert_exporter": "python",
   "pygments_lexer": "ipython3",
   "version": "3.8.5"
  }
 },
 "nbformat": 4,
 "nbformat_minor": 4
}
